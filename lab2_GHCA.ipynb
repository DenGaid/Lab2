{
 "cells": [
  {
   "cell_type": "code",
   "execution_count": 1,
   "id": "716300f1",
   "metadata": {},
   "outputs": [],
   "source": [
    "import numpy as np\n",
    "import matplotlib.pyplot as plt\n",
    "\n",
    "#%matplotlib notebook # uncomment this line if you wish to save a configuration"
   ]
  },
  {
   "cell_type": "markdown",
   "id": "dbe2f52e",
   "metadata": {},
   "source": [
    "## Task 1:\n",
    "We first define some functions to help us structure the code a bit."
   ]
  },
  {
   "cell_type": "code",
   "execution_count": 2,
   "id": "fe512445",
   "metadata": {},
   "outputs": [],
   "source": [
    "def grid_step(grid, grid_next, size, N, e):\n",
    "    '''\n",
    "    This function takes a grid, a temp array grid_next\n",
    "    and steps the grid forward one step \n",
    "    according to the neighbourhood and \n",
    "    update functions as defined.\n",
    "    Since creating new arrays is expensive,\n",
    "    we pass the temporary grid_next array as well\n",
    "    '''\n",
    "    n, m = size # unroll vector \n",
    "    \n",
    "    # we use a new matrix since we cant update \n",
    "    # in place, since that would\n",
    "    # change how the next neighbourhoods are updated\n",
    "    for i in range(n):\n",
    "        for j in range(m):\n",
    "            neighbourhood = get_neighbourhood(grid, size, index=(i, j))\n",
    "            grid_next[i][j] = update_element(grid[i][j], neighbourhood, N, e)\n",
    "    grid = np.copy(grid_next)\n",
    "    return grid\n",
    "\n",
    "def update_element(element, neighbourhood, N, e):\n",
    "    '''\n",
    "    This function updates an element given its neighbourhood\n",
    "    '''\n",
    "    # on average this will probably be true more often than the other case, \n",
    "    # so we check the last rule first\n",
    "    if element == 0:\n",
    "        # if at least one neighbor is in an excited state,\n",
    "        # we will have a sum greater than 0, and thus return 1*True(1) = 1, \n",
    "        # otherwise we return 1 * False(0) = 0\n",
    "        \n",
    "        # TODO: consider changing to some threshold  \n",
    "        for i in range(len(neighbourhood)):\n",
    "            if 1 <= neighbourhood.any() <= e:\n",
    "                return 1\n",
    "        return 0\n",
    "    \n",
    "    else:\n",
    "        # returns element + 1 mod N\n",
    "        return (element + 1) % N\n",
    "    \n",
    "def get_neighbourhood(grid, size, index):\n",
    "    '''\n",
    "    This function returns a neighbourhood of a cell given a \n",
    "    neighbourhood type\n",
    "    '''\n",
    "    i, j = index # unroll index\n",
    "    n, m = size\n",
    "    # we use a 1d array because \n",
    "    # we do not care about the positions of the \n",
    "    # individual neighbours\n",
    "    \n",
    "    neighbourhood = np.zeros(4)\n",
    "    \n",
    "    # negative indices will wrap around by default, and\n",
    "    # for positive indices we simply take \n",
    "    # index mod axis to wrap around\n",
    "    neighbourhood[0] = grid[i-1][j]    \n",
    "    # mod n to wrap around\n",
    "    neighbourhood[1] = grid[(i+1) % n][j]\n",
    "    neighbourhood[2] = grid[i][j-1]\n",
    "    # mod m to wrap around\n",
    "    neighbourhood[3] = grid[i][(j+1) % m]\n",
    "    return neighbourhood\n",
    "\n",
    "def simulation_run(size, N, e, num_iterations, seed = -1):\n",
    "    # initialize our grid\n",
    "    # ensure we can control our random generator\n",
    "    \n",
    "    # if seed is not default, we pass the seed, otherwise seed will be random\n",
    "    if seed != -1:\n",
    "        np.random.seed(seed=seed) \n",
    "    \n",
    "    grid = np.random.randint(low=0, high=e+1, size=size) \n",
    "    grid_next = np.zeros(shape=size)\n",
    "    \n",
    "    grids = [grid]\n",
    "    # step our grid for num_iterations and save results in a list\n",
    "    for i in range(num_iterations):\n",
    "        grid = grid_step(grid, grid_next, size, N, e)\n",
    "        grids.append(grid)\n",
    "    return grids\n",
    "\n",
    "def find_period(grid, size, N, e, num_iterations):\n",
    "    '''\n",
    "    This function will compare the next configuration\n",
    "    to all previous one to check if it matches one, in which\n",
    "    case we calculate and return the grids and the period\n",
    "    '''\n",
    "    # initialize our grid\n",
    "    # ensure we can control our random generator\n",
    "     \n",
    "    grid_next = np.zeros(shape=size)\n",
    "    \n",
    "    grids = [grid]\n",
    "    while True:\n",
    "        grid = grid_step(grid, grid_next, size, N, e)\n",
    "        \n",
    "        k = len(grids)\n",
    "        if k % 500 == 0:\n",
    "            print(f'Trying to find period, iteration: {k}')\n",
    "        for i in range(k):\n",
    "            if np.array_equal(grid, grids[i]):\n",
    "                grids.append(grid)\n",
    "                return grids, (k - i, i, k)\n",
    "        grids.append(grid)"
   ]
  },
  {
   "cell_type": "code",
   "execution_count": 3,
   "id": "c1e6358a",
   "metadata": {
    "scrolled": true
   },
   "outputs": [],
   "source": [
    "n = 50\n",
    "m = 50\n",
    "size = (n, m)\n",
    "\n",
    "N = 5\n",
    "e = 3\n",
    "\n",
    "# make sure we have valid N, e\n",
    "assert(e <= N - 2)\n",
    "\n",
    "num_iterations = 50\n",
    "\n",
    "seed = 2\n",
    "\n",
    "grids = simulation_run(size=size, N=N, e=e, num_iterations=num_iterations, seed=seed)"
   ]
  },
  {
   "cell_type": "markdown",
   "id": "cfd19947",
   "metadata": {},
   "source": [
    "## Task 1 cont:\n",
    "Note that to save it to a picture, simply uncomment the line in the first cell, and save the picture\n",
    "using the matplotlib function. To change the iteration, change which index we plot in ax.matshow(grids[50])\n",
    "\n",
    "The more red an element is, the higher the value."
   ]
  },
  {
   "cell_type": "code",
   "execution_count": 4,
   "id": "55b0b03e",
   "metadata": {
    "scrolled": false
   },
   "outputs": [
    {
     "data": {
      "text/plain": [
       "(-0.5, 49.5, 49.5, -0.5)"
      ]
     },
     "execution_count": 4,
     "metadata": {},
     "output_type": "execute_result"
    },
    {
     "data": {
      "image/png": "[encoded data removed]",
      "text/plain": [
       "<Figure size 864x864 with 1 Axes>"
      ]
     },
     "metadata": {
      "needs_background": "light"
     },
     "output_type": "display_data"
    }
   ],
   "source": [
    "plt.rcParams['image.cmap'] = 'OrRd'\n",
    "fig, ax = plt.subplots(figsize=(12, 12))\n",
    "\n",
    "ax.matshow(grids[49]) # change index to change iteration\n",
    "ax.axis(False)"
   ]
  },
  {
   "cell_type": "markdown",
   "id": "7d4b8783",
   "metadata": {},
   "source": [
    "## Question 2:\n",
    "Since the initial configuration is random, we do not need to consider whether or not a configuration \n",
    "is reachable or not, but instead only the number of possible initial configurations possible.\n",
    "Since each cell can take on any value between $0$ to $N-1$, and there are a total number of $n \\cdot m$\n",
    "cells we get that there are $(N-1)\\cdot n \\cdot m$ possible configurations by the multiplication principle (or something)"
   ]
  },
  {
   "cell_type": "markdown",
   "id": "eb767119",
   "metadata": {},
   "source": [
    "## Task 3:\n",
    "Though the code for finding the period is defined above in the functions section, \n",
    "we call the function here and find an initial configuration that yields a living period.\n",
    "\n",
    "The initial configuration defined in \"grid\" yields a living period of 5, where $N = 5$ $e = 3$. This structure becomes periodic from grid[4] to grid[9], and then repeating. \n",
    "\n",
    "This coincides with a period $N=5$ is expected from *theorem 1*"
   ]
  },
  {
   "cell_type": "code",
   "execution_count": 5,
   "id": "d50ba51e",
   "metadata": {
    "scrolled": true
   },
   "outputs": [
    {
     "name": "stdout",
     "output_type": "stream",
     "text": [
      "period = 5\n",
      "i = 4\n",
      "j = 9\n"
     ]
    }
   ],
   "source": [
    "N = 5\n",
    "e = 3\n",
    "\n",
    "# make sure we have valid N, e\n",
    "assert(e <= N - 2)\n",
    "\n",
    "grid = np.array([\n",
    "                [0, 0, 0, 0, 0, 0], \n",
    "                [0, 0, 0, 0, 0, 0], \n",
    "                [0, 0, 1, 2, 0, 0], \n",
    "                [0, 0, 0, 0, 0, 0], \n",
    "                [0, 0, 0, 0, 0, 0], \n",
    "                [0, 0, 0, 0, 0, 0]])\n",
    "\n",
    "size = grid.shape\n",
    "grids, period = find_period(grid, size=size, N=N, e=e, num_iterations=num_iterations)\n",
    "print(f'period = {period[0]}\\ni = {period[1]}\\nj = {period[2]}')"
   ]
  },
  {
   "cell_type": "markdown",
   "id": "7504b231",
   "metadata": {},
   "source": [
    "Check that we in fact have a period"
   ]
  },
  {
   "cell_type": "code",
   "execution_count": 6,
   "id": "a1e32eab",
   "metadata": {},
   "outputs": [
    {
     "name": "stdout",
     "output_type": "stream",
     "text": [
      "True\n",
      "[[0. 0. 0. 0. 0. 0.]\n",
      " [0. 0. 0. 0. 0. 0.]\n",
      " [0. 0. 0. 0. 0. 0.]\n",
      " [0. 0. 0. 0. 0. 0.]\n",
      " [0. 0. 0. 0. 0. 0.]\n",
      " [0. 0. 0. 0. 0. 0.]]\n"
     ]
    }
   ],
   "source": [
    "x = 4\n",
    "y = 9\n",
    "period = grids[x] - grids[y]\n",
    "print(np.array_equal(grids[x], grids[y]))\n",
    "print(period)"
   ]
  },
  {
   "cell_type": "code",
   "execution_count": 7,
   "id": "bdf0543c",
   "metadata": {
    "scrolled": true
   },
   "outputs": [
    {
     "name": "stdout",
     "output_type": "stream",
     "text": [
      "[[1. 2. 3. 3. 2. 1.]\n",
      " [2. 3. 4. 4. 3. 2.]\n",
      " [3. 4. 0. 1. 4. 3.]\n",
      " [2. 3. 4. 4. 3. 2.]\n",
      " [1. 2. 3. 3. 2. 1.]\n",
      " [0. 1. 2. 2. 1. 0.]]\n"
     ]
    }
   ],
   "source": [
    "print(grids[9])"
   ]
  },
  {
   "cell_type": "markdown",
   "id": "f6602639",
   "metadata": {},
   "source": [
    "## Task 4\n",
    "We can use our previous example grids[4] for our periodic orbit and we try to change some elements."
   ]
  },
  {
   "cell_type": "code",
   "execution_count": 8,
   "id": "9bf45262",
   "metadata": {
    "scrolled": true
   },
   "outputs": [
    {
     "name": "stdout",
     "output_type": "stream",
     "text": [
      "[[1. 2. 3. 3. 2. 1.]\n",
      " [2. 3. 4. 4. 3. 2.]\n",
      " [3. 4. 0. 1. 4. 3.]\n",
      " [2. 3. 4. 4. 3. 2.]\n",
      " [1. 2. 3. 3. 2. 1.]\n",
      " [0. 1. 2. 2. 1. 0.]]\n"
     ]
    }
   ],
   "source": [
    "# original orbit\n",
    "print(grids[4])"
   ]
  },
  {
   "cell_type": "markdown",
   "id": "c41f7d02",
   "metadata": {},
   "source": [
    "Set up an orbit close to our original one (note that here $C_p$ is the changed orbit and $C$ the original one)"
   ]
  },
  {
   "cell_type": "code",
   "execution_count": 9,
   "id": "8b10f593",
   "metadata": {},
   "outputs": [
    {
     "name": "stdout",
     "output_type": "stream",
     "text": [
      "[[ 0.  0.  0.  0.  0.  0.]\n",
      " [ 0.  0. -1.  0.  0.  0.]\n",
      " [ 0.  0.  0.  0.  0.  0.]\n",
      " [ 0.  0.  0.  0.  0.  0.]\n",
      " [ 0.  0.  0.  0.  0.  0.]\n",
      " [ 0.  0.  0.  0.  0.  0.]]\n"
     ]
    }
   ],
   "source": [
    "C = np.copy(grids[4])\n",
    "# We change C_p sligtly in a somewhat arbitrary position\n",
    "C_p = np.copy(C)\n",
    "C_p[1][2] = 3\n",
    "print(C_p - C)"
   ]
  },
  {
   "cell_type": "code",
   "execution_count": 10,
   "id": "53e418b1",
   "metadata": {},
   "outputs": [
    {
     "name": "stdout",
     "output_type": "stream",
     "text": [
      "period = 5\n",
      "i = 0\n",
      "j = 5\n"
     ]
    }
   ],
   "source": [
    "# and then we check what orbit we get:\n",
    "N = 5 \n",
    "e = 3 \n",
    "assert(e <= N - 2)\n",
    "\n",
    "size = grid.shape\n",
    "\n",
    "grids_cp, period_cp = find_period(C_p, size=size, N=N, e=e, num_iterations=num_iterations)\n",
    "print(f'period = {period_cp[0]}\\ni = {period_cp[1]}\\nj = {period_cp[2]}')"
   ]
  },
  {
   "cell_type": "code",
   "execution_count": 11,
   "id": "35399942",
   "metadata": {
    "scrolled": true
   },
   "outputs": [
    {
     "name": "stdout",
     "output_type": "stream",
     "text": [
      "[[ 0.  0.  0.  0.  0.  0.]\n",
      " [ 0.  0. -1.  0.  0.  0.]\n",
      " [ 0.  0.  0.  0.  0.  0.]\n",
      " [ 0.  0.  0.  0.  0.  0.]\n",
      " [ 0.  0.  0.  0.  0.  0.]\n",
      " [ 0.  0.  0.  0.  0.  0.]]\n"
     ]
    }
   ],
   "source": [
    "# Explore difference between the final orbits\n",
    "print(grids_cp[period_cp[1]] - C)"
   ]
  },
  {
   "cell_type": "markdown",
   "id": "a988e4bb",
   "metadata": {},
   "source": [
    "## Task 4 cont.\n",
    "As we can see, the orbit is slightly different than our original orbit, but interestingly it differs exactly as much as we changed our inital matrix. \n",
    "Thus, the original orbit is not exactly attracting in this case, but also not very sensitive to the initial conditions either since we did not see much of a change."
   ]
  },
  {
   "cell_type": "markdown",
   "id": "a6ecfe59",
   "metadata": {},
   "source": [
    "## Task 5\n",
    "Since we know that the integers modulo N is a group under addition, supposing we have some configuration $C_1$, we can choose a $C_2$ such that $C_1 + C_2 = \\mathbf{0}$.\n",
    "\n",
    "We also note without proof that the zero matrix, $\\mathbf{0}$ is addatively neutral here (viz. a zero element) both under <b>GHCA</b> and element wise.\n",
    "\n",
    "\n",
    "One example for the case N = 5, e = 3 would be $C_1 = \\begin{bmatrix}\n",
    "0 & 0 & 0 &\\\\\n",
    "0 & 1 & 0 &\\\\\n",
    "0 & 0 & 0 & \\end{bmatrix}$ and $C_2 = \\begin{bmatrix}\n",
    "0 & 0 & 0 &\\\\\n",
    "0 & 4 & 0 &\\\\\n",
    "0 & 0 & 0 & \\end{bmatrix}$, where since $1 + 4 \\equiv 0 \\mod 5$, clearly $F(C_1 + C_2) = F(\\mathbf{0}) = \\mathbf{0}$\n",
    "\n",
    "however, $F(C_1) = \\begin{bmatrix}\n",
    "0 & 0 & 0 &\\\\\n",
    "0 & 2 & 0 &\\\\\n",
    "0 & 0 & 0 & \\end{bmatrix}$, and $F(C_2) = \\mathbf{0}$\n",
    "\n",
    "\n",
    "Thus $F(C_1) + F(C_2) = F(C_1) + \\mathbf{0} = F(C_1) \\neq \\mathbf{0}$, a simple counter example. Thus, GHCA is not addative."
   ]
  }
 ],
 "metadata": {
  "kernelspec": {
   "display_name": "Python 3 (ipykernel)",
   "language": "python",
   "name": "python3"
  },
  "language_info": {
   "codemirror_mode": {
    "name": "ipython",
    "version": 3
   },
   "file_extension": ".py",
   "mimetype": "text/x-python",
   "name": "python",
   "nbconvert_exporter": "python",
   "pygments_lexer": "ipython3",
   "version": "3.9.7"
  },
  "varInspector": {
   "cols": {
    "lenName": 16,
    "lenType": 16,
    "lenVar": 40
   },
   "kernels_config": {
    "python": {
     "delete_cmd_postfix": "",
     "delete_cmd_prefix": "del ",
     "library": "var_list.py",
     "varRefreshCmd": "print(var_dic_list())"
    },
    "r": {
     "delete_cmd_postfix": ") ",
     "delete_cmd_prefix": "rm(",
     "library": "var_list.r",
     "varRefreshCmd": "cat(var_dic_list()) "
    }
   },
   "types_to_exclude": [
    "module",
    "function",
    "builtin_function_or_method",
    "instance",
    "_Feature"
   ],
   "window_display": false
  }
 },
 "nbformat": 4,
 "nbformat_minor": 5
}
