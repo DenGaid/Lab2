{
 "cells": [
  {
   "attachments": {},
   "cell_type": "markdown",
   "metadata": {},
   "source": [
    "# Lab 2 Simon Palm and Erik Lindvall\n",
    "Some of the results are in the prints following the code cells."
   ]
  },
  {
   "attachments": {},
   "cell_type": "markdown",
   "metadata": {},
   "source": [
    "# Imports and functions"
   ]
  },
  {
   "cell_type": "code",
   "execution_count": 324,
   "metadata": {},
   "outputs": [],
   "source": [
    "import numpy as np\n",
    "import matplotlib.pyplot as plt\n",
    "import numpy as np\n",
    "from copy import deepcopy as copy\n",
    "\n",
    "def find_nbhdN(config,i,j,m,n):\n",
    "    nbhdN = []\n",
    "    if i == 0:\n",
    "        if j == 0:\n",
    "            nbhdN.append(config[i+1][j])\n",
    "            nbhdN.append(config[i][j+1])\n",
    "        elif j != 0 and j < m-1:\n",
    "            nbhdN.append(config[i+1][j])\n",
    "            nbhdN.append(config[i][j-1])            \n",
    "            nbhdN.append(config[i][j+1])\n",
    "        elif j == m-1:\n",
    "            nbhdN.append(config[i+1][j])\n",
    "            nbhdN.append(config[i][j-1])            \n",
    "    elif i != 0 and i < n-1:\n",
    "        if j == 0:\n",
    "            nbhdN.append(config[i+1][j])\n",
    "            nbhdN.append(config[i-1][j])\n",
    "            nbhdN.append(config[i][j+1])\n",
    "        elif j != 0 and j < m-1:\n",
    "            nbhdN.append(config[i+1][j])\n",
    "            nbhdN.append(config[i-1][j])\n",
    "            nbhdN.append(config[i][j-1])            \n",
    "            nbhdN.append(config[i][j+1])\n",
    "        elif j == m-1:\n",
    "            nbhdN.append(config[i+1][j])\n",
    "            nbhdN.append(config[i-1][j])\n",
    "            nbhdN.append(config[i][j-1])           \n",
    "    elif i == n-1:\n",
    "        if j == 0:\n",
    "            nbhdN.append(config[i-1][j])\n",
    "            nbhdN.append(config[i][j+1])\n",
    "        elif j != 0 and j < m-1:\n",
    "\n",
    "            nbhdN.append(config[i-1][j])\n",
    "            nbhdN.append(config[i][j-1])            \n",
    "            nbhdN.append(config[i][j+1])\n",
    "        elif j == m-1:\n",
    "            nbhdN.append(config[i-1][j])\n",
    "            nbhdN.append(config[i][j-1])  \n",
    "    return nbhdN   \n",
    "\n",
    "\n",
    "\n",
    "\n",
    "def periodicBC(i,m):\n",
    "    if i > m-1:\n",
    "        ind = 0\n",
    "    elif i < 0:\n",
    "        ind = m-1\n",
    "    else:\n",
    "        ind = i\n",
    "    return ind\n",
    "\n",
    "def find_nbhdP(config,i,j,m,n):\n",
    "    nbhdP = []\n",
    "    nbhdP.append(config[periodicBC(i+1,n)][j])\n",
    "    nbhdP.append(config[periodicBC(i-1,n)][j])\n",
    "    nbhdP.append(config[i][periodicBC(j-1,m)])            \n",
    "    nbhdP.append(config[i][periodicBC(j+1,m)])\n",
    "    return nbhdP\n",
    "\n",
    "def GHstep(config,m,n,Estates,Nstates,type ='DC'):\n",
    "    new_config = np.zeros([1,n,m]).astype(int)\n",
    "    for i in range(n): #rows (m)\n",
    "        for j in range(m):\n",
    "            if config[i][j] == 0:\n",
    "                if type == 'DC':\n",
    "                  nbhd = find_nbhdN(config,i,j,m,n)\n",
    "                elif type == 'P':\n",
    "                   nbhd = find_nbhdP(config,i,j,m,n)\n",
    "               # print(nbhd)\n",
    "                for nb in nbhd:\n",
    "                    if nb in Estates:\n",
    "                        new_config[0][i][j] = config[i][j] + 1\n",
    "                        break\n",
    "            elif config[i][j] == Nstates-1:\n",
    "                new_config[0][i][j] = 0\n",
    "            \n",
    "            else: \n",
    "                new_config[0][i][j] = config[i][j] + 1\n",
    "    return new_config   \n",
    "\n"
   ]
  },
  {
   "cell_type": "code",
   "execution_count": 325,
   "metadata": {},
   "outputs": [
    {
     "data": {
      "image/png": "[encoded data removed]",
      "text/plain": [
       "<Figure size 640x480 with 1 Axes>"
      ]
     },
     "metadata": {},
     "output_type": "display_data"
    },
    {
     "name": "stdout",
     "output_type": "stream",
     "text": [
      "The eventual periodicity of this state is 4\n"
     ]
    },
    {
     "data": {
      "image/png": "[encoded data removed]",
      "text/plain": [
       "<Figure size 640x480 with 1 Axes>"
      ]
     },
     "metadata": {},
     "output_type": "display_data"
    },
    {
     "data": {
      "image/png": "[encoded data removed]",
      "text/plain": [
       "<Figure size 640x480 with 1 Axes>"
      ]
     },
     "metadata": {},
     "output_type": "display_data"
    },
    {
     "name": "stdout",
     "output_type": "stream",
     "text": [
      "The cardinality of the set of configurations =  847288609443\n"
     ]
    }
   ],
   "source": [
    "# GHCA\n",
    "\n",
    "n = 5\n",
    "m = 5\n",
    "Nstates = 3\n",
    "Estates = [1]\n",
    "# Initial state nxm np array with random values\n",
    "Vinit = np.random.randint(0,Nstates,[1,n,m])\n",
    "\n",
    "# Draw the initial state in colour\n",
    "plt.imshow(Vinit[0,:,:])\n",
    "plt.title('Initial state')\n",
    "plt.show()\n",
    "\n",
    "t = 100\n",
    "V = Vinit\n",
    "plt.imshow(V[0,:,:])\n",
    "cond = True\n",
    "period = 0\n",
    "Vperiod = np.zeros([1,n,m]).astype(int)\n",
    "for i in range(t):\n",
    "    V = np.append(V,GHstep(V[i],m,n,Estates,Nstates,'P'),axis=0)\n",
    "Vperiod[0] = V[-1]\n",
    "periodicity = 0\n",
    "\n",
    "for i in  reversed(range(t)):\n",
    "    Vtemp = np.zeros([1,n,m]).astype(int)\n",
    "    Vtemp[0] = V[i]\n",
    "    Vperiod = np.append(Vperiod,Vtemp,axis=0)\n",
    "    periodicity += 1\n",
    "    if np.linalg.norm(V[i] - V[-1]) == 0:\n",
    "        break\n",
    "       \n",
    "print(f'The eventual periodicity of this state is {periodicity}') # Usually is 3,4 or 7 if it is alive\n",
    "\n",
    "plt.imshow(V[-2,:,:])\n",
    "plt.title('Second last step')\n",
    "plt.show()\n",
    "\n",
    "plt.imshow(V[-1,:,:])\n",
    "plt.title('Last step')\n",
    "plt.show()\n",
    "\n",
    "print(f'The cardinality of the set of configurations =  {Nstates**(m*n)}')"
   ]
  },
  {
   "attachments": {},
   "cell_type": "markdown",
   "metadata": {},
   "source": [
    "# See if perturbed initial state converges to same orbit\n",
    "The code in the previous cell must have resulted in a alive solution for the code to work. Tries to load a state which is known to be attractor.\n",
    "They sometimes converge to the same orbit, but not always, depending on initial state."
   ]
  },
  {
   "cell_type": "code",
   "execution_count": 326,
   "metadata": {},
   "outputs": [
    {
     "name": "stdout",
     "output_type": "stream",
     "text": [
      "The perturbed configuration converged to the same orbit!!!\n"
     ]
    }
   ],
   "source": [
    "Vtemp = np.zeros([1,n,m]).astype(int)\n",
    "try:\n",
    "   Vtemp[0] = np.load('Vconv.npy')\n",
    "except:\n",
    "   Vtemp[0] = V[-1]\n",
    "\n",
    "Cp = copy(Vtemp) #Assuming previous code converged to a periodic set\n",
    "Cp_pert = copy(Vtemp)\n",
    "Cp_pert[0][3][3] = (Cp_pert[0][3][3]+1)%Nstates\n",
    "Cp_pert[0][0][4] = (Cp_pert[0][0][4]+1)%Nstates\n",
    "Cp_pert[0][2][4] = (Cp_pert[0][2][4]+1)%Nstates\n",
    "for i in range(t):\n",
    "    Cp_pert = np.append(Cp_pert,GHstep(Cp_pert[i],m,n,Estates,Nstates,'P'),axis=0)\n",
    "    if np.linalg.norm(Cp[0]-Cp_pert[i]) == 0:\n",
    "      print(f'The perturbed configuration converged to the same orbit!!!')\n",
    "      try:\n",
    "         Vconv = np.load('Vconv.npy') # Save the converged orbit if not already saved\n",
    "      except:\n",
    "         Vconv = np.save('Vconv.npy',V[-1])\n",
    "\n",
    "      break"
   ]
  },
  {
   "attachments": {},
   "cell_type": "markdown",
   "metadata": {},
   "source": [
    "# Check additive"
   ]
  },
  {
   "cell_type": "code",
   "execution_count": 327,
   "metadata": {},
   "outputs": [
    {
     "data": {
      "image/png": "[encoded data removed]",
      "text/plain": [
       "<Figure size 640x480 with 1 Axes>"
      ]
     },
     "metadata": {},
     "output_type": "display_data"
    },
    {
     "data": {
      "image/png": "[encoded data removed]",
      "text/plain": [
       "<Figure size 640x480 with 1 Axes>"
      ]
     },
     "metadata": {},
     "output_type": "display_data"
    },
    {
     "name": "stdout",
     "output_type": "stream",
     "text": [
      "They are not the same, therefore not additive.\n"
     ]
    }
   ],
   "source": [
    "def conf_add(V,V2,N):\n",
    "    # Get dim of V\n",
    "    dummy,n,m = V.shape[:]\n",
    "    Vresult = np.zeros([1,n,m]).astype(int)\n",
    "\n",
    "    for i in range(n):\n",
    "        for j in range(m):\n",
    "            # Print V[i,j] + V2[i,j]\n",
    "            Vresult[0][i][j] += np.mod(V[0][i][j] + V2[0][i][j],N)\n",
    "    return Vresult\n",
    "\n",
    "Nstates = 3\n",
    "n = 3\n",
    "m = 3\n",
    "Estates = [1]\n",
    "C1 = np.random.randint(0,Nstates,[1,n,m])\n",
    "C2 = np.random.randint(0,Nstates,[1,n,m])\n",
    "C3 = conf_add(C1,C2,Nstates)\n",
    "\n",
    "FC1 = GHstep(C1[0],m,n,Estates,Nstates,'P')\n",
    "FC2 = GHstep(C2[0],m,n,Estates,Nstates,'P')\n",
    "FC3 = GHstep(C3[0],m,n,Estates,Nstates,'P')\n",
    "FC3_2 = conf_add(FC1,FC2,Nstates)\n",
    "plt.imshow(FC3[0])\n",
    "plt.title('F(C1+C2)')\n",
    "plt.show()\n",
    "\n",
    "plt.imshow(FC3_2[0])\n",
    "plt.title('F(C1)+F(C2)')\n",
    "plt.show()\n",
    "\n",
    "# They are not the same\n",
    "print('They are not the same, therefore not additive.')"
   ]
  }
 ],
 "metadata": {
  "kernelspec": {
   "display_name": "New",
   "language": "python",
   "name": "python3"
  },
  "language_info": {
   "codemirror_mode": {
    "name": "ipython",
    "version": 3
   },
   "file_extension": ".py",
   "mimetype": "text/x-python",
   "name": "python",
   "nbconvert_exporter": "python",
   "pygments_lexer": "ipython3",
   "version": "3.10.9"
  },
  "orig_nbformat": 4
 },
 "nbformat": 4,
 "nbformat_minor": 2
}
